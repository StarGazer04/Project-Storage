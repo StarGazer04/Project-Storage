{
  "nbformat": 4,
  "nbformat_minor": 0,
  "metadata": {
    "colab": {
      "provenance": []
    },
    "kernelspec": {
      "name": "python3",
      "display_name": "Python 3"
    },
    "language_info": {
      "name": "python"
    }
  },
  "cells": [
    {
      "cell_type": "markdown",
      "source": [
        "### **Problem 3. Gaussian Elimination and Back Substitution**\n"
      ],
      "metadata": {
        "id": "beCJEopMPgls"
      }
    },
    {
      "cell_type": "markdown",
      "source": [
        "Import required packages, and create matrix A and vector b"
      ],
      "metadata": {
        "id": "zqR9G1SBce5k"
      }
    },
    {
      "cell_type": "code",
      "source": [
        "import numpy as np\n",
        "from numpy.linalg import norm\n",
        "# fix  seed  for  reproducible  result. Please  do not  change  the  seed\n",
        "rng = np.random.default_rng(20232033)\n",
        "n = 300\n",
        "A = rng.random((n,n))\n",
        "b = rng.random((n,1))\n",
        "#print(\"A = {}; \\n b = {}\".format(A,b))"
      ],
      "metadata": {
        "id": "o02D3xBdceOb"
      },
      "execution_count": 59,
      "outputs": []
    },
    {
      "cell_type": "markdown",
      "source": [
        "**3.1 (1.5/5) Gaussian Elimination (Version 0)**\n",
        "\n"
      ],
      "metadata": {
        "id": "IBtsWvbFP1MT"
      }
    },
    {
      "cell_type": "markdown",
      "source": [
        "**Implement your own function: TODO**"
      ],
      "metadata": {
        "id": "rv0-JLx4ccX0"
      }
    },
    {
      "cell_type": "code",
      "source": [
        "def gauss_elim_v0(A,b,print_flag=True):\n",
        "  # check whether the calculation is valid\n",
        "  assert A.shape[0] == A.shape[1],\"A must be square!\" # Make sure A is square\n",
        "  assert A.shape[0] == b.shape[0],\"Input dimension doesn't match!\" # Make sure dimmension matches\n",
        "  assert b.shape[1] == 1,\"b is not a vector!\" # Make sure b is a vector\n",
        "\n",
        "\n",
        "    # Perform Gaussian elimination\n",
        "  U = np.hstack((A, b))\n",
        "  n = A.shape[0]\n",
        "  for k in range(0,n-1):\n",
        "    for j in range(k + 1, n):\n",
        "      lamb = U[j, k] / U[k, k]\n",
        "      U[[j],:] = U[[j],:] - lamb * U[[k],:]\n",
        "  ###################################\n",
        "  return U"
      ],
      "metadata": {
        "id": "KnG_7xMJbyZH"
      },
      "execution_count": 51,
      "outputs": []
    },
    {
      "cell_type": "code",
      "source": [],
      "metadata": {
        "id": "QJunBgrthZY0"
      },
      "execution_count": null,
      "outputs": []
    },
    {
      "cell_type": "markdown",
      "source": [
        "**Validate your result here using the example shown to you**"
      ],
      "metadata": {
        "id": "2LngVcSpAV4s"
      }
    },
    {
      "cell_type": "code",
      "source": [
        "A_example1 = np.array([[1,-1,1],[2,-1,3],[2,0,3]],dtype=np.float64)\n",
        "b_example1 = np.array([[1],[4],[5]],dtype=np.float64)\n",
        "\n",
        "U_example1 = gauss_elim_v0(A_example1,b_example1,True)\n",
        "\n",
        "print(U_example1)"
      ],
      "metadata": {
        "id": "CAwO4VrJvKbn",
        "colab": {
          "base_uri": "https://localhost:8080/"
        },
        "outputId": "14f83e6d-3dbe-45e1-df94-824f29018e66"
      },
      "execution_count": 52,
      "outputs": [
        {
          "output_type": "stream",
          "name": "stdout",
          "text": [
            "[[ 1. -1.  1.  1.]\n",
            " [ 0.  1.  1.  2.]\n",
            " [ 0.  0. -1. -1.]]\n"
          ]
        }
      ]
    },
    {
      "cell_type": "markdown",
      "source": [
        "**3.2 (2/5) Back Substitution**"
      ],
      "metadata": {
        "id": "d1JO-0mDc_WG"
      }
    },
    {
      "cell_type": "code",
      "source": [
        "# this function will check whether the matrix is in row echelon form\n",
        "def check_row_echelon(U):\n",
        "  eps = np.finfo(np.float32).eps # updated here!!!\n",
        "  # Previous version: eps = np.finfo(np.float64).eps\n",
        "  test = np.tril(U,-1)\n",
        "  #print(test) np.abs(test)\n",
        "  return np.all(abs(test)<=eps)\n"
      ],
      "metadata": {
        "id": "b_B7vKLJ7_GK"
      },
      "execution_count": 53,
      "outputs": []
    },
    {
      "cell_type": "markdown",
      "source": [
        "**Implement your own function: TODO**"
      ],
      "metadata": {
        "id": "X8peXcljdLbk"
      }
    },
    {
      "cell_type": "code",
      "source": [
        "def back_subs(U,print_flag = True):\n",
        "  assert  check_row_echelon(U),\"U must be in row echelon form\"\n",
        "\n",
        "  ###### YOUR CODE STARTS HERE ######\n",
        "  n = U.shape[0]\n",
        "  x = np.zeros((n,1))\n",
        "  c = U[:, [-1]]\n",
        "  D = U[:,:-1]\n",
        "  x[n-1] = c[n-1]/D[n-1, n-1]\n",
        "  for i in range(n-2, -1, -1):\n",
        "    sum = np.sum(D[i,i+1:] * x[i+1:])\n",
        "    x[i] = (c[i] - sum)/D[i,i]\n",
        "    if(print_flag):\n",
        "      print(f'x[{i}] = {x[i]}')\n",
        "  return x"
      ],
      "metadata": {
        "id": "WyPQk4oUdLbw"
      },
      "execution_count": 54,
      "outputs": []
    },
    {
      "cell_type": "markdown",
      "source": [
        "Validate your result here using the example shown to you"
      ],
      "metadata": {
        "id": "a2y5ro0CAwuO"
      }
    },
    {
      "cell_type": "code",
      "source": [
        "x_example1 = back_subs(U_example1,True)\n",
        "print(x_example1)"
      ],
      "metadata": {
        "id": "txt8hYgjAb0H",
        "colab": {
          "base_uri": "https://localhost:8080/"
        },
        "outputId": "0e47d955-c236-425b-f23e-eeee4456173e"
      },
      "execution_count": 55,
      "outputs": [
        {
          "output_type": "stream",
          "name": "stdout",
          "text": [
            "x[1] = [1.]\n",
            "x[0] = [1.]\n",
            "[[1.]\n",
            " [1.]\n",
            " [1.]]\n"
          ]
        }
      ]
    },
    {
      "cell_type": "markdown",
      "source": [
        "**Call your own functions and validate your solutions (x1) by using relative distance ||Ax1 - b||/||A||: TODO**"
      ],
      "metadata": {
        "id": "1ieP2tTRA_lU"
      }
    },
    {
      "cell_type": "code",
      "source": [
        "def my_solver_v0(A,b):\n",
        "  U = gauss_elim_v0(A,b,False)\n",
        "  ###### YOUR CODE STARTS HERE ######\n",
        "  x = back_subs(U, False)\n",
        "\n",
        "  return x"
      ],
      "metadata": {
        "id": "RWUpGBf_fHaf"
      },
      "execution_count": 56,
      "outputs": []
    },
    {
      "cell_type": "markdown",
      "source": [
        "Validate your result here"
      ],
      "metadata": {
        "id": "d42JNHyCfTaZ"
      }
    },
    {
      "cell_type": "code",
      "source": [
        "###### YOUR CODE STARTS HERE ######\n",
        "x1 = my_solver_v0(A_example1 ,b_example1 )\n",
        "dist = np.linalg.norm(A_example1 @ x1 - b_example1 ) / np.linalg.norm(A_example1 )\n",
        "\n",
        "print(\"The relative error ||Ax1-b||/||A|| = {}\".format(dist))"
      ],
      "metadata": {
        "id": "bEWZ1-codh6c",
        "colab": {
          "base_uri": "https://localhost:8080/"
        },
        "outputId": "f64bdbe5-6c50-4e78-c78a-107a5fad92e5"
      },
      "execution_count": 65,
      "outputs": [
        {
          "output_type": "stream",
          "name": "stdout",
          "text": [
            "The relative error ||Ax1-b||/||A|| = 0.0\n"
          ]
        }
      ]
    },
    {
      "cell_type": "markdown",
      "source": [
        "**Call the numpy built-in function to solve the given questions (solution is x2), and compare it with your result using relative distance ||x1-x2||/||x2||: TODO**"
      ],
      "metadata": {
        "id": "CkbJEjcddh6b"
      }
    },
    {
      "cell_type": "code",
      "source": [
        "###### YOUR CODE STARTS HERE ######\n",
        "\n",
        "x2 = np.linalg.solve(A_example1 ,b_example1 )\n",
        "\n",
        "dist = np.linalg.norm(x1 - x2) / np.linalg.norm(x2)\n",
        "\n",
        "###################################\n",
        "print(\"The relative distance ||A@x2-b||/||A|| = {}\".format(dist))"
      ],
      "metadata": {
        "id": "ITNlR8aDc_d7",
        "colab": {
          "base_uri": "https://localhost:8080/"
        },
        "outputId": "9753af48-0d32-477c-fa29-3127753aff2f"
      },
      "execution_count": 67,
      "outputs": [
        {
          "output_type": "stream",
          "name": "stdout",
          "text": [
            "The relative distance ||A@x2-b||/||A|| = 0.0\n"
          ]
        }
      ]
    },
    {
      "cell_type": "markdown",
      "source": [
        "**3.3 (1.5/5) Gaussian Elimination (Version 1)**"
      ],
      "metadata": {
        "id": "woJMty-zJYIg"
      }
    },
    {
      "cell_type": "code",
      "source": [
        "A[0,0] = 0"
      ],
      "metadata": {
        "id": "xPEnWvZJlB_P"
      },
      "execution_count": null,
      "outputs": []
    },
    {
      "cell_type": "markdown",
      "source": [
        "**Implement your own function: TODO**"
      ],
      "metadata": {
        "id": "5Zis1E3_yhur"
      }
    },
    {
      "cell_type": "code",
      "source": [
        "def gauss_elim_v1(A,b,print_flag):\n",
        "  # check whether the calculation is valid\n",
        "  assert A.shape[0] == A.shape[1],\"A must be square\" # Make sure A is square\n",
        "  assert A.shape[0] == b.shape[0],\"Input dimension doesn't match\" # Make sure dimmension matches\n",
        "  assert b.shape[1] == 1,\"b is not a vector\" # Make sure b is a vector\n",
        "\n",
        "  n = A.shape[0]\n",
        "  ###### YOUR CODE STARTS HERE ######\n",
        "  U = np.concatenate((A,b), axis = 1)\n",
        "  for k in range (0, n-1):\n",
        "    max_row = np.argmax(np.abs(U[k:, k])) + k\n",
        "    U[[k, max_row], :] = U[[max_row, k], :]\n",
        "    for j in range (k+1, n):\n",
        "      lamb = U[j,k]/U[k,k]\n",
        "      U[[j], :] -= lamb * U[[k], :]\n",
        "    #   print your augmented matrix each step while it is modified\n",
        "  #   you could symply use print(U) to print for each step\n",
        "      if (print_flag):\n",
        "        print(U)\n",
        "        print(\"==============================================\")\n",
        "  ###################################\n",
        "  return U"
      ],
      "metadata": {
        "id": "UvebooaeypVh"
      },
      "execution_count": 68,
      "outputs": []
    },
    {
      "cell_type": "code",
      "source": [
        "def my_solver_v1(A,b):\n",
        "  U = gauss_elim_v1(A,b,False)\n",
        "  ###### YOUR CODE STARTS HERE ######\n",
        "  x = back_subs(U,False) # reuse your back_substitution function here\n",
        "  ###################################\n",
        "\n",
        "  return x"
      ],
      "metadata": {
        "id": "Fj3fDTs3yb9H"
      },
      "execution_count": 72,
      "outputs": []
    },
    {
      "cell_type": "markdown",
      "source": [
        "**Validate your result here using the example shown to you**"
      ],
      "metadata": {
        "id": "7lkce3ssy2WZ"
      }
    },
    {
      "cell_type": "code",
      "source": [
        "A_example2 = np.array([[0,1,1],[2,6,4],[1,1,4]],dtype=np.float64)\n",
        "b_example2 = np.array([[-1],[6],[9]],dtype=np.float64)\n",
        "\n",
        "U_example2 = gauss_elim_v1(A_example2,b_example2,True)\n",
        "\n",
        "print(U_example2)"
      ],
      "metadata": {
        "id": "T4yC1prUy6Z3",
        "colab": {
          "base_uri": "https://localhost:8080/"
        },
        "outputId": "d9c2251c-86e5-4ea1-f8bf-c8ff711c1312"
      },
      "execution_count": 73,
      "outputs": [
        {
          "output_type": "stream",
          "name": "stdout",
          "text": [
            "[[ 2.  6.  4.  6.]\n",
            " [ 0.  1.  1. -1.]\n",
            " [ 1.  1.  4.  9.]]\n",
            "==============================================\n",
            "[[ 2.  6.  4.  6.]\n",
            " [ 0.  1.  1. -1.]\n",
            " [ 0. -2.  2.  6.]]\n",
            "==============================================\n",
            "[[ 2.  6.  4.  6.]\n",
            " [ 0. -2.  2.  6.]\n",
            " [ 0.  0.  2.  2.]]\n",
            "==============================================\n",
            "[[ 2.  6.  4.  6.]\n",
            " [ 0. -2.  2.  6.]\n",
            " [ 0.  0.  2.  2.]]\n"
          ]
        }
      ]
    },
    {
      "cell_type": "markdown",
      "source": [
        "**Call your own functions and validate your solutions (x1) by using relative distance ||Ax1 - b||/||A||: TODO**"
      ],
      "metadata": {
        "id": "qCx8avMjkcik"
      }
    },
    {
      "cell_type": "code",
      "source": [
        "###### YOUR CODE STARTS HERE ######\n",
        "\n",
        "x1 = my_solver_v1(A,b)\n",
        "dist = np.linalg.norm(A @ x1 - b)/np.linalg.norm(A)\n",
        "\n",
        "\n",
        "###################################\n",
        "print(\"The relative error ||Ax1-b||/||A|| = {}\".format(dist))"
      ],
      "metadata": {
        "id": "vF6qkhvJkciq",
        "colab": {
          "base_uri": "https://localhost:8080/"
        },
        "outputId": "243f8ab7-fc04-4050-c2ca-621ca1af8af3"
      },
      "execution_count": 76,
      "outputs": [
        {
          "output_type": "stream",
          "name": "stdout",
          "text": [
            "The relative error ||Ax1-b||/||A|| = inf\n"
          ]
        }
      ]
    },
    {
      "cell_type": "markdown",
      "source": [
        "**Call the numpy built-in function to solve the given questions (solution is x2), and compare it with your result using relative distance ||x1-x2||/||x2||: TODO**"
      ],
      "metadata": {
        "id": "DjBQCOD1kciq"
      }
    },
    {
      "cell_type": "code",
      "source": [
        "###### YOUR CODE STARTS HERE ######\n",
        "\n",
        "# x2 = np.??\n",
        "# dist = ...\n",
        "#\n",
        "\n",
        "###################################\n",
        "print(\"The relative distance ||x1-x2||/||x2|| = {}\".format(dist))"
      ],
      "metadata": {
        "id": "Mrirem20kciq"
      },
      "execution_count": null,
      "outputs": []
    }
  ]
}